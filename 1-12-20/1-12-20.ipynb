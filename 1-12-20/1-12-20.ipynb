{
    "metadata": {
        "kernelspec": {
            "name": "SQL",
            "display_name": "SQL",
            "language": "sql"
        },
        "language_info": {
            "name": "sql",
            "version": ""
        }
    },
    "nbformat_minor": 2,
    "nbformat": 4,
    "cells": [
        {
            "cell_type": "code",
            "source": [
                "SELECT * from SalesLT.Product;"
            ],
            "metadata": {
                "azdata_cell_guid": "720d170d-5d99-403b-8f6f-c52117e81d98",
                "tags": [
                    "hide_input"
                ]
            },
            "outputs": [],
            "execution_count": 40
        },
        {
            "cell_type": "code",
            "source": [
                "SELECT TOP (1000) [ProductID]\n",
                "      ,[Name]\n",
                "      ,[ProductNumber]\n",
                "      ,[Color]\n",
                "      ,[StandardCost]\n",
                "      ,[ListPrice]\n",
                "      ,[Size]\n",
                "      ,[Weight]\n",
                "      ,[ProductCategoryID]\n",
                "      ,[ProductModelID]\n",
                "      ,[SellStartDate]\n",
                "      ,[SellEndDate]\n",
                "      ,[DiscontinuedDate]\n",
                "      ,[ThumbNailPhoto]\n",
                "      ,[ThumbnailPhotoFileName]\n",
                "      ,[rowguid]\n",
                "      ,[ModifiedDate]\n",
                "  FROM [AdventureWorksLT2012].[SalesLT].[Product]"
            ],
            "metadata": {
                "azdata_cell_guid": "9910b24f-83ff-4003-8341-7769e3c6ea43",
                "tags": [
                    "hide_input"
                ]
            },
            "outputs": [],
            "execution_count": 22
        },
        {
            "cell_type": "code",
            "source": [
                "select Name, StandardCost, ListPrice from SalesLT.Product;"
            ],
            "metadata": {
                "azdata_cell_guid": "b168c1f4-49a1-43c1-b578-b6fa45ef209c",
                "tags": [
                    "hide_input"
                ]
            },
            "outputs": [],
            "execution_count": 42
        },
        {
            "cell_type": "code",
            "source": [
                "select Name as ProductName, StandardCost, ListPrice from SalesLT.Product;"
            ],
            "metadata": {
                "azdata_cell_guid": "17750752-2434-49f8-a5f4-84bd93caa6ac",
                "tags": [
                    "hide_input"
                ]
            },
            "outputs": [],
            "execution_count": 45
        },
        {
            "cell_type": "code",
            "source": [
                "SELECT SellStartDate as Start, SellEndDate FROM SalesLT.Product;"
            ],
            "metadata": {
                "azdata_cell_guid": "cbe070bb-6d1b-4cf9-b6f7-cb70f90e57c5",
                "tags": [
                    "hide_input"
                ]
            },
            "outputs": [],
            "execution_count": 8
        },
        {
            "cell_type": "code",
            "source": [
                "select Name as ProductName, ListPrice, StandardCost, ListPrice - StandardCost as Size, Weight from SalesLT.Product;"
            ],
            "metadata": {
                "azdata_cell_guid": "fabaadbc-5ba3-4efd-94ad-e365ca38c8c2",
                "tags": [
                    "hide_input"
                ]
            },
            "outputs": [],
            "execution_count": 48
        },
        {
            "cell_type": "code",
            "source": [
                "SELECT Name as ProductName, Weight as OriginalWeight, Weight * 2 as DoubleWeight, Color from SalesLT.Product;"
            ],
            "metadata": {
                "azdata_cell_guid": "b8190476-a12b-4894-9346-961bfc8c9f26",
                "tags": [
                    "hide_input"
                ]
            },
            "outputs": [],
            "execution_count": 51
        },
        {
            "cell_type": "markdown",
            "source": [
                "'a' 'abc'\n",
                "char(5) -> 'abcde' -> 'abc  '\n",
                "varchar(5) -> 'abc'"
            ],
            "metadata": {
                "azdata_cell_guid": "020d970a-be41-4173-aeeb-25932ca38b13"
            }
        },
        {
            "cell_type": "code",
            "source": [
                "select Name as ProductName, StandardCost, ListPrice, Size, Weight from SalesLT.Product;"
            ],
            "metadata": {
                "azdata_cell_guid": "5662cb43-0cee-48f4-bfa6-06695200f384",
                "tags": [
                    "hide_input"
                ]
            },
            "outputs": [],
            "execution_count": 15
        },
        {
            "cell_type": "code",
            "source": [
                "select ProductNumber, Color, Size, Color + ', ' + Size as ProductDetails from SalesLT.Product;"
            ],
            "metadata": {
                "azdata_cell_guid": "e37eec22-189c-4a18-94a7-a8ff91b73a31",
                "tags": [
                    "hide_input"
                ]
            },
            "outputs": [],
            "execution_count": 52
        },
        {
            "cell_type": "markdown",
            "source": [
                "Implicit conversion gets done for you\n",
                "-- Explicit conversiojn requires an explicit conversion function\n",
                "-- Cast / Try_Cast\n",
                "-- Convert / Try_Convert"
            ],
            "metadata": {
                "azdata_cell_guid": "7d82cc23-5a77-4e6f-986c-93daac90703e"
            }
        },
        {
            "cell_type": "code",
            "source": [
                "Select CAST(ProductID as varchar(5)) + ': ' + Name as ProductID from SalesLT.Product;"
            ],
            "metadata": {
                "azdata_cell_guid": "6c89fd4f-890c-4587-9b1c-78630ceb9962",
                "tags": [
                    "hide_input"
                ]
            },
            "outputs": [],
            "execution_count": 58
        },
        {
            "cell_type": "code",
            "source": [
                "SELECT CAST(Weight as nvarchar(10)) + ': ' + CAST(ProductID as varchar(10)) as WeightID from SalesLT.Product;"
            ],
            "metadata": {
                "azdata_cell_guid": "a31b21a8-bea4-4cdd-98fa-ff70e95389f2",
                "tags": [
                    "hide_input"
                ]
            },
            "outputs": [],
            "execution_count": 56
        },
        {
            "cell_type": "code",
            "source": [
                "Select CONVERT(varchar(5), ProductID) + ': ' + Name as ProductName from SalesLT.Product;"
            ],
            "metadata": {
                "azdata_cell_guid": "4f8b740a-a2de-4e78-8211-25b192879e4a",
                "tags": [
                    "hide_input"
                ]
            },
            "outputs": [],
            "execution_count": 57
        },
        {
            "cell_type": "code",
            "source": [
                "SELECT CONVERT(varchar(10), Weight) + 'LBS ' as USWeight from SalesLT.Product;"
            ],
            "metadata": {
                "azdata_cell_guid": "6801cf48-e162-485e-b202-b519b24477bc",
                "tags": [
                    "hide_input"
                ]
            },
            "outputs": [],
            "execution_count": 59
        },
        {
            "cell_type": "code",
            "source": [
                "Select SellStartDate, \n",
                "    CONVERT(nvarchar(30), SellStartDate) as ConvertedDate,\n",
                "    CONVERT(nvarchar(30), SellStartDate, 126) as ISO860Format\n",
                " from SalesLT.Product;"
            ],
            "metadata": {
                "azdata_cell_guid": "9f212c6f-0724-4c59-bf30-c9d1e1831a73",
                "tags": [
                    "hide_input"
                ]
            },
            "outputs": [],
            "execution_count": 39
        },
        {
            "cell_type": "code",
            "source": [
                "Select Name, CAST(Size as Integer) as NumericSize from SalesLT.Product;"
            ],
            "metadata": {
                "azdata_cell_guid": "46ca61bf-c9f3-4b75-814d-1300c6bee85f",
                "tags": [
                    "hide_input"
                ]
            },
            "outputs": [],
            "execution_count": 60
        },
        {
            "cell_type": "code",
            "source": [
                "Select Name, TRY_CAST(Size as Integer) as NumericSize from SalesLT.Product;\n",
                "-- Incompatible data types returned as NULL"
            ],
            "metadata": {
                "azdata_cell_guid": "b8eee7ad-aa0e-4bd5-b2f1-3f7deb070609",
                "tags": [
                    "hide_input"
                ]
            },
            "outputs": [],
            "execution_count": 61
        },
        {
            "cell_type": "code",
            "source": [
                "SELECT Size, TRY_CAST(Size as Integer) * 3 as TripleSize from SalesLT.Product;"
            ],
            "metadata": {
                "azdata_cell_guid": "6d8603fc-1d22-4e3f-9994-d1cb2d0b7af5",
                "tags": [
                    "hide_input"
                ]
            },
            "outputs": [],
            "execution_count": 66
        },
        {
            "cell_type": "code",
            "source": [
                "Select Name, ISNULL(TRY_CAST(Size as Integer), 0) as NumericSize from SalesLT.Product;"
            ],
            "metadata": {
                "azdata_cell_guid": "0c7f49fb-368a-46fa-a7a1-f5e7dc77b171",
                "tags": [
                    "hide_input"
                ]
            },
            "outputs": [],
            "execution_count": 65
        },
        {
            "cell_type": "code",
            "source": [
                "SELECT ISNULL(MiddleName, 'DNP') as NewMiddleName from SalesLT.Customer;"
            ],
            "metadata": {
                "azdata_cell_guid": "b62ea5b9-eda8-4a85-ae4f-3faf2ec222f0",
                "tags": [
                    "hide_input"
                ]
            },
            "outputs": [],
            "execution_count": 68
        },
        {
            "cell_type": "code",
            "source": [
                "Select ProductNumber,\n",
                "    ISNULL(Color, '') + ', ' + ISNULL(Size, '') as ProductDetails\n",
                "from SalesLT.Product;"
            ],
            "metadata": {
                "azdata_cell_guid": "939d4e47-d0b1-4c1f-ab45-4f5df7058ca7",
                "tags": [
                    "hide_input"
                ]
            },
            "outputs": [],
            "execution_count": 70
        },
        {
            "cell_type": "code",
            "source": [
                "Select Name, NULLIF(Color, 'Multi') as SingleColor from SalesLT.Product"
            ],
            "metadata": {
                "azdata_cell_guid": "e13f1295-5364-4075-b1da-3036ffb51b11",
                "tags": [
                    "hide_input"
                ]
            },
            "outputs": [],
            "execution_count": 33
        },
        {
            "cell_type": "code",
            "source": [
                "Select Name, ISNULL(NULLIF(Color, 'Multi'), 'Put multi') as SingleColor from SalesLT.Product"
            ],
            "metadata": {
                "azdata_cell_guid": "c77a9e27-7d2e-44e4-8e4a-815e8345c5d9",
                "tags": [
                    "hide_input"
                ]
            },
            "outputs": [],
            "execution_count": 32
        },
        {
            "cell_type": "code",
            "source": [
                "Select Name, Coalesce(DiscontinuedDate, SellEndDate, SellStartDate) as FirstNotNull from SalesLT.Product;"
            ],
            "metadata": {
                "azdata_cell_guid": "babd0255-6973-4b62-9e5b-9133ca5ec500",
                "tags": [
                    "hide_input"
                ]
            },
            "outputs": [],
            "execution_count": 34
        },
        {
            "cell_type": "code",
            "source": [
                "SELECT Name, Coalesce(Weight, TRY_CAST(Size as Integer)) as FirstValidWeightSize from SalesLT.Product;"
            ],
            "metadata": {
                "azdata_cell_guid": "1948972d-fa0a-47b1-968b-9b14702f69f9",
                "tags": [
                    "hide_input"
                ]
            },
            "outputs": [],
            "execution_count": 36
        },
        {
            "cell_type": "code",
            "source": [
                "Select Name,\n",
                "    Case \n",
                "        When SellEndDate IS NULL Then 'On Sale'\n",
                "        Else 'Discontinued'\n",
                "    End as SaleStatus\n",
                "from SalesLT.Product;\n",
                ""
            ],
            "metadata": {
                "azdata_cell_guid": "fb491dcb-3e8a-4517-b0bf-6b1fd1fce552",
                "tags": [
                    "hide_input"
                ]
            },
            "outputs": [],
            "execution_count": 10
        },
        {
            "cell_type": "code",
            "source": [
                "Select Name,\n",
                "    Case Size\n",
                "        When 'S' Then 'Small'\n",
                "        When 'M' Then 'Meduim'\n",
                "        When 'L' Then 'Large'\n",
                "        When 'XL' Then 'Extra-Large'\n",
                "        Else ISNULL(Size, 'n/a')\n",
                "    End as SizeStatus\n",
                "from SalesLT.Product;\n",
                ""
            ],
            "metadata": {
                "azdata_cell_guid": "1eb45501-78f4-4460-bb66-c892e07e61b2",
                "tags": [
                    "hide_input"
                ]
            },
            "outputs": [],
            "execution_count": 37
        },
        {
            "cell_type": "code",
            "source": [
                "SELECT Name,\n",
                "    Case \n",
                "        When Color = 'Multi' then 'Follow Instructions'\n",
                "        Else 'Good job'\n",
                "    End as JobStatus\n",
                "from SalesLT.Product"
            ],
            "metadata": {
                "azdata_cell_guid": "9e321b92-dee4-4dac-9085-e81a208c6545",
                "tags": [
                    "hide_input"
                ]
            },
            "outputs": [],
            "execution_count": 38
        },
        {
            "cell_type": "code",
            "source": [
                "SELECT FirstName,\n",
                "    CASE Title \n",
                "        When 'Mr.' then 'Male'\n",
                "        When 'Ms.' then 'Female'\n",
                "        When 'Mrs.' then 'Female'\n",
                "        Else 'I dont know'\n",
                "    End as Gender\n",
                "from SalesLT.Customer;"
            ],
            "metadata": {
                "azdata_cell_guid": "3f477ec8-d0e0-47c0-8558-8db5992ea515",
                "tags": [
                    "hide_input"
                ]
            },
            "outputs": [],
            "execution_count": 39
        },
        {
            "cell_type": "markdown",
            "source": [
                "HW:\n",
                "Q1: Give all information from the customer table\n",
                "Q2: First Name, Middle Name, Last Name, Email Address, Phone Number\n",
                "Q3: Product Name, Number, Color, Size, Weight, Date Started Selling, Profit Made From Product\n",
                "Q4: Info in 3 with discontinued date\n",
                "Q5: Product ID, Sales order ID, Unit Price, Unit Price Discount, Line Toal Amount"
            ],
            "metadata": {
                "azdata_cell_guid": "fa27ff59-c058-4666-abae-a2bbcb09f7d3"
            }
        },
        {
            "cell_type": "code",
            "source": [
                "Select * from SalesLT.Customer"
            ],
            "metadata": {
                "azdata_cell_guid": "34b20d20-f3eb-48ac-b354-2d6a236224d8",
                "tags": [
                    "hide_input"
                ]
            },
            "outputs": [],
            "execution_count": 1
        },
        {
            "cell_type": "code",
            "source": [
                "Select FirstName, MiddleName, LastName, EmailAddress, Phone from SalesLT.Customer;"
            ],
            "metadata": {
                "azdata_cell_guid": "aa83df7a-d99c-4b7f-852c-172707d2beff",
                "tags": [
                    "hide_input"
                ]
            },
            "outputs": [],
            "execution_count": 2
        },
        {
            "cell_type": "code",
            "source": [
                "Select  Name, Color, Size, Weight, SellStartDate, ListPrice - StandardCost as Profit from SalesLT.Product"
            ],
            "metadata": {
                "azdata_cell_guid": "46148e9f-15ad-40b9-b34c-580cb9cd64e6",
                "tags": [
                    "hide_input"
                ]
            },
            "outputs": [],
            "execution_count": 4
        },
        {
            "cell_type": "code",
            "source": [
                "Select  Name, Color, Size, Weight, SellStartDate, DiscontinuedDate, ListPrice - StandardCost as Profit from SalesLT.Product"
            ],
            "metadata": {
                "azdata_cell_guid": "16c2d4b8-d508-4c84-82c5-a2b8e1a0b0e0",
                "tags": [
                    "hide_input"
                ]
            },
            "outputs": [],
            "execution_count": 14
        },
        {
            "cell_type": "code",
            "source": [
                "Select \n",
                "    SalesLT.Product.ProductID, SalesOrderID, UnitPrice, UnitPriceDiscount, LineTotal \n",
                "    from SalesLT.Product, SalesLT.SalesOrderDetail \n",
                "Where SalesLT.Product.ProductID = SalesLT.SalesOrderDetail.ProductID;"
            ],
            "metadata": {
                "azdata_cell_guid": "e1dfc088-72dd-4bf6-a802-be4ef444588b",
                "tags": [
                    "hide_input"
                ]
            },
            "outputs": [],
            "execution_count": 22
        },
        {
            "cell_type": "code",
            "source": [
                "Select FirstName + ' ' + LastName from SalesLT.Customer"
            ],
            "metadata": {
                "azdata_cell_guid": "426bbcc1-ca1e-433d-a459-958ba3b49449",
                "tags": [
                    "hide_input"
                ]
            },
            "outputs": [],
            "execution_count": 5
        },
        {
            "cell_type": "code",
            "source": [
                "Select 'My name is: ' + FirstName as FirstName from SalesLT.Customer"
            ],
            "metadata": {
                "azdata_cell_guid": "8b38985a-003c-48dc-97df-2d18c9af66cd",
                "tags": [
                    "hide_input"
                ]
            },
            "outputs": [],
            "execution_count": 6
        },
        {
            "cell_type": "code",
            "source": [
                "Select Name, ProductCategoryID, ProductNumber\n",
                "From SalesLT.Product\n",
                "Where ProductCategoryID NOT IN (3,4,5)"
            ],
            "metadata": {
                "azdata_cell_guid": "892717fe-f2f2-425c-9846-17e4230a5d42",
                "tags": []
            },
            "outputs": [],
            "execution_count": 14
        },
        {
            "cell_type": "code",
            "source": [
                "Select Name, ProductCategoryID, ProductNumber\n",
                "From SalesLT.Product\n",
                "Where Name Like '%[aA]%'"
            ],
            "metadata": {
                "azdata_cell_guid": "1892bbd9-92b9-4531-ba07-53ff232276f5",
                "tags": []
            },
            "outputs": [],
            "execution_count": 18
        },
        {
            "cell_type": "code",
            "source": [
                "Select Name, ProductCategoryID, ProductNumber, ListPrice\n",
                "From SalesLT.Product\n",
                "Where ListPrice > 100 AND ProductCategoryID <> 0"
            ],
            "metadata": {
                "azdata_cell_guid": "05c547e7-e146-4a41-aae3-e25278b93064",
                "tags": []
            },
            "outputs": [],
            "execution_count": 0
        }
    ]
}