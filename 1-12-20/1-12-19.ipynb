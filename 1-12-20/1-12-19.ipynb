{
    "metadata": {
        "kernelspec": {
            "name": "SQL",
            "display_name": "SQL",
            "language": "sql"
        },
        "language_info": {
            "name": "sql",
            "version": ""
        }
    },
    "nbformat_minor": 2,
    "nbformat": 4,
    "cells": [
        {
            "cell_type": "markdown",
            "source": [
                "Selecting from DB Table"
            ],
            "metadata": {
                "azdata_cell_guid": "2231f728-cf4d-488e-a67e-ec5998fba71f"
            }
        },
        {
            "cell_type": "code",
            "source": [
                "SELECT Color FROM SalesLT.Product;"
            ],
            "metadata": {
                "azdata_cell_guid": "f08d3ca0-81b8-48bd-bffc-b5c4a15d9990",
                "tags": []
            },
            "outputs": [],
            "execution_count": 1
        },
        {
            "cell_type": "code",
            "source": [
                "SELECT Distinct Color FROM SalesLT.Product"
            ],
            "metadata": {
                "azdata_cell_guid": "03b74e1b-f4d5-4d28-8c9e-5be567aba82f",
                "tags": []
            },
            "outputs": [],
            "execution_count": 4
        },
        {
            "cell_type": "code",
            "source": [
                "SELECT DISTINCT ISNULL(Color, 'None') as Color FROM SalesLT.Product"
            ],
            "metadata": {
                "azdata_cell_guid": "d2b71f5b-8e4a-4ed8-aa4b-40af58644815",
                "tags": []
            },
            "outputs": [],
            "execution_count": 3
        },
        {
            "cell_type": "code",
            "source": [
                "SELECT DISTINCT ISNULL(Color, 'None') AS Color, ISNULL(Size, '-') AS Size FROM SalesLT.Product ORDER BY Color;"
            ],
            "metadata": {
                "azdata_cell_guid": "8be30f87-92ad-475f-b32f-2ddc16fb5600",
                "tags": []
            },
            "outputs": [],
            "execution_count": 1
        },
        {
            "cell_type": "code",
            "source": [
                "SELECT TOP 100 Name FROM SalesLT.Product ORDER BY ListPrice DESC"
            ],
            "metadata": {
                "azdata_cell_guid": "931fd05a-c67e-4cf3-9c50-e225bc605a5a",
                "tags": []
            },
            "outputs": [],
            "execution_count": 2
        },
        {
            "cell_type": "code",
            "source": [
                "SELECT TOP 59 ProductNumber From SalesLT.Product ORDER BY ProductNumber ASC"
            ],
            "metadata": {
                "azdata_cell_guid": "10ab483a-6c83-4532-a63e-6f70d27111bb"
            },
            "outputs": [],
            "execution_count": 23
        },
        {
            "cell_type": "code",
            "source": [
                "SELECT DISTINCT TOP 100 LastName, FirstName from SalesLT.Customer ORDER BY LastName, FirstName ASC"
            ],
            "metadata": {
                "azdata_cell_guid": "502e9164-f969-4350-aa81-0d9fa5fe1163",
                "tags": []
            },
            "outputs": [],
            "execution_count": 3
        },
        {
            "cell_type": "code",
            "source": [
                "SELECT TOP 10 PERCENT LastName, FirstName from SalesLT.Customer ORDER BY LastName, FirstName ASC"
            ],
            "metadata": {
                "azdata_cell_guid": "63f67f91-ac28-40b9-8965-01f54980a95a",
                "tags": []
            },
            "outputs": [],
            "execution_count": 24
        },
        {
            "cell_type": "code",
            "source": [
                "SELECT TOP 3 WITH TIES Name from SalesLT.Product ORDER BY ProductID DESC"
            ],
            "metadata": {
                "azdata_cell_guid": "d4b759e5-5b2e-453a-a867-3fc72227c1dd",
                "tags": []
            },
            "outputs": [],
            "execution_count": 32
        },
        {
            "cell_type": "code",
            "source": [
                "SELECT ProductID, Name, Color FROM SalesLT.Product ORDER BY ProductID DESC"
            ],
            "metadata": {
                "azdata_cell_guid": "c16d0f92-65c2-4c8e-b543-c2b00ae841d5",
                "tags": []
            },
            "outputs": [],
            "execution_count": 6
        },
        {
            "cell_type": "code",
            "source": [
                "SELECT ProductID, Name, Color from SalesLT.Product ORDER BY ProductID DESC OFFSET 5 ROWS"
            ],
            "metadata": {
                "azdata_cell_guid": "d8666e60-5bc1-498b-8117-0110096b6db4",
                "tags": []
            },
            "outputs": [],
            "execution_count": 33
        },
        {
            "cell_type": "code",
            "source": [
                "SELECT ProductID, Name, Color from SalesLT.Product ORDER BY ProductID DESC OFFSET 0 ROWS FETCH FIRST 10 ROWS ONLY"
            ],
            "metadata": {
                "azdata_cell_guid": "5bff8e53-7c83-4dbd-a8c5-a254774794f3",
                "tags": []
            },
            "outputs": [],
            "execution_count": 8
        },
        {
            "cell_type": "code",
            "source": [
                "SELECT ProductID, Name, Color from SalesLT.Product ORDER BY ProductID DESC OFFSET 5 ROWS FETCH NEXT 10 ROWS ONLY"
            ],
            "metadata": {
                "azdata_cell_guid": "525bc3b9-d07d-4a77-842c-9ef5b7bcdf82",
                "tags": []
            },
            "outputs": [],
            "execution_count": 9
        },
        {
            "cell_type": "markdown",
            "source": [
                "Filtering With Predicates"
            ],
            "metadata": {
                "azdata_cell_guid": "c9fd5fee-9576-4e22-9d99-2ecb9afeaf79"
            }
        },
        {
            "cell_type": "code",
            "source": [
                "SELECT Name, Color, Size FROM SalesLT.Product WHERE ProductModelID = 6"
            ],
            "metadata": {
                "azdata_cell_guid": "868b67b7-2a43-4209-abfd-c076100aa94c",
                "tags": []
            },
            "outputs": [],
            "execution_count": 10
        },
        {
            "cell_type": "code",
            "source": [
                "SELECT Name, Color, Size FROM SalesLT.Product WHERE ProductModelID <> 6"
            ],
            "metadata": {
                "azdata_cell_guid": "babad3a6-c540-4f53-849a-ddef15e99277",
                "tags": []
            },
            "outputs": [
                {
                    "output_type": "display_data",
                    "data": {
                        "text/html": "(284 rows affected)"
                    },
                    "metadata": {}
                },
                {
                    "output_type": "display_data",
                    "data": {
                        "text/html": "Total execution time: 00:00:00.015"
                    },
                    "metadata": {}
                },
                {
                    "output_type": "execute_result",
                    "metadata": {},
                    "execution_count": 34,
                    "data": {
                        "application/vnd.dataresource+json": {
                            "schema": {
                                "fields": [
                                    {
                                        "name": "Name"
                                    },
                                    {
                                        "name": "Color"
                                    },
                                    {
                                        "name": "Size"
                                    }
                                ]
                            },
                            "data": [
                                {
                                    "0": "Sport-100 Helmet, Red",
                                    "1": "Red",
                                    "2": "NULL"
                                },
                                {
                                    "0": "Sport-100 Helmet, Black",
                                    "1": "Black",
                                    "2": "NULL"
                                },
                                {
                                    "0": "Mountain Bike Socks, M",
                                    "1": "White",
                                    "2": "M"
                                },
                                {
                                    "0": "Mountain Bike Socks, L",
                                    "1": "White",
                                    "2": "L"
                                },
                                {
                                    "0": "Sport-100 Helmet, Blue",
                                    "1": "Blue",
                                    "2": "NULL"
                                },
                                {
                                    "0": "AWC Logo Cap",
                                    "1": "Multi",
                                    "2": "NULL"
                                },
                                {
                                    "0": "Long-Sleeve Logo Jersey, S",
                                    "1": "Multi",
                                    "2": "S"
                                },
                                {
                                    "0": "Long-Sleeve Logo Jersey, M",
                                    "1": "Multi",
                                    "2": "M"
                                },
                                {
                                    "0": "Long-Sleeve Logo Jersey, L",
                                    "1": "Multi",
                                    "2": "L"
                                },
                                {
                                    "0": "Long-Sleeve Logo Jersey, XL",
                                    "1": "Multi",
                                    "2": "XL"
                                },
                                {
                                    "0": "LL Road Frame - Black, 58",
                                    "1": "Black",
                                    "2": "58"
                                },
                                {
                                    "0": "LL Road Frame - Black, 60",
                                    "1": "Black",
                                    "2": "60"
                                },
                                {
                                    "0": "LL Road Frame - Black, 62",
                                    "1": "Black",
                                    "2": "62"
                                },
                                {
                                    "0": "LL Road Frame - Red, 44",
                                    "1": "Red",
                                    "2": "44"
                                },
                                {
                                    "0": "LL Road Frame - Red, 48",
                                    "1": "Red",
                                    "2": "48"
                                },
                                {
                                    "0": "LL Road Frame - Red, 52",
                                    "1": "Red",
                                    "2": "52"
                                },
                                {
                                    "0": "LL Road Frame - Red, 58",
                                    "1": "Red",
                                    "2": "58"
                                },
                                {
                                    "0": "LL Road Frame - Red, 60",
                                    "1": "Red",
                                    "2": "60"
                                },
                                {
                                    "0": "LL Road Frame - Red, 62",
                                    "1": "Red",
                                    "2": "62"
                                },
                                {
                                    "0": "ML Road Frame - Red, 44",
                                    "1": "Red",
                                    "2": "44"
                                },
                                {
                                    "0": "ML Road Frame - Red, 48",
                                    "1": "Red",
                                    "2": "48"
                                },
                                {
                                    "0": "ML Road Frame - Red, 52",
                                    "1": "Red",
                                    "2": "52"
                                },
                                {
                                    "0": "ML Road Frame - Red, 58",
                                    "1": "Red",
                                    "2": "58"
                                },
                                {
                                    "0": "ML Road Frame - Red, 60",
                                    "1": "Red",
                                    "2": "60"
                                },
                                {
                                    "0": "LL Road Frame - Black, 44",
                                    "1": "Black",
                                    "2": "44"
                                },
                                {
                                    "0": "LL Road Frame - Black, 48",
                                    "1": "Black",
                                    "2": "48"
                                },
                                {
                                    "0": "LL Road Frame - Black, 52",
                                    "1": "Black",
                                    "2": "52"
                                },
                                {
                                    "0": "HL Mountain Frame - Silver, 42",
                                    "1": "Silver",
                                    "2": "42"
                                },
                                {
                                    "0": "HL Mountain Frame - Silver, 44",
                                    "1": "Silver",
                                    "2": "44"
                                },
                                {
                                    "0": "HL Mountain Frame - Silver, 48",
                                    "1": "Silver",
                                    "2": "48"
                                },
                                {
                                    "0": "HL Mountain Frame - Silver, 46",
                                    "1": "Silver",
                                    "2": "46"
                                },
                                {
                                    "0": "HL Mountain Frame - Black, 42",
                                    "1": "Black",
                                    "2": "42"
                                },
                                {
                                    "0": "HL Mountain Frame - Black, 44",
                                    "1": "Black",
                                    "2": "44"
                                },
                                {
                                    "0": "HL Mountain Frame - Black, 48",
                                    "1": "Black",
                                    "2": "48"
                                },
                                {
                                    "0": "HL Mountain Frame - Black, 46",
                                    "1": "Black",
                                    "2": "46"
                                },
                                {
                                    "0": "HL Mountain Frame - Black, 38",
                                    "1": "Black",
                                    "2": "38"
                                },
                                {
                                    "0": "HL Mountain Frame - Silver, 38",
                                    "1": "Silver",
                                    "2": "38"
                                },
                                {
                                    "0": "Road-150 Red, 62",
                                    "1": "Red",
                                    "2": "62"
                                },
                                {
                                    "0": "Road-150 Red, 44",
                                    "1": "Red",
                                    "2": "44"
                                },
                                {
                                    "0": "Road-150 Red, 48",
                                    "1": "Red",
                                    "2": "48"
                                },
                                {
                                    "0": "Road-150 Red, 52",
                                    "1": "Red",
                                    "2": "52"
                                },
                                {
                                    "0": "Road-150 Red, 56",
                                    "1": "Red",
                                    "2": "56"
                                },
                                {
                                    "0": "Road-450 Red, 58",
                                    "1": "Red",
                                    "2": "58"
                                },
                                {
                                    "0": "Road-450 Red, 60",
                                    "1": "Red",
                                    "2": "60"
                                },
                                {
                                    "0": "Road-450 Red, 44",
                                    "1": "Red",
                                    "2": "44"
                                },
                                {
                                    "0": "Road-450 Red, 48",
                                    "1": "Red",
                                    "2": "48"
                                },
                                {
                                    "0": "Road-450 Red, 52",
                                    "1": "Red",
                                    "2": "52"
                                },
                                {
                                    "0": "Road-650 Red, 58",
                                    "1": "Red",
                                    "2": "58"
                                },
                                {
                                    "0": "Road-650 Red, 60",
                                    "1": "Red",
                                    "2": "60"
                                },
                                {
                                    "0": "Road-650 Red, 62",
                                    "1": "Red",
                                    "2": "62"
                                },
                                {
                                    "0": "Road-650 Red, 44",
                                    "1": "Red",
                                    "2": "44"
                                },
                                {
                                    "0": "Road-650 Red, 48",
                                    "1": "Red",
                                    "2": "48"
                                },
                                {
                                    "0": "Road-650 Red, 52",
                                    "1": "Red",
                                    "2": "52"
                                },
                                {
                                    "0": "Road-650 Black, 58",
                                    "1": "Black",
                                    "2": "58"
                                },
                                {
                                    "0": "Road-650 Black, 60",
                                    "1": "Black",
                                    "2": "60"
                                },
                                {
                                    "0": "Road-650 Black, 62",
                                    "1": "Black",
                                    "2": "62"
                                },
                                {
                                    "0": "Road-650 Black, 44",
                                    "1": "Black",
                                    "2": "44"
                                },
                                {
                                    "0": "Road-650 Black, 48",
                                    "1": "Black",
                                    "2": "48"
                                },
                                {
                                    "0": "Road-650 Black, 52",
                                    "1": "Black",
                                    "2": "52"
                                },
                                {
                                    "0": "Mountain-100 Silver, 38",
                                    "1": "Silver",
                                    "2": "38"
                                },
                                {
                                    "0": "Mountain-100 Silver, 42",
                                    "1": "Silver",
                                    "2": "42"
                                },
                                {
                                    "0": "Mountain-100 Silver, 44",
                                    "1": "Silver",
                                    "2": "44"
                                },
                                {
                                    "0": "Mountain-100 Silver, 48",
                                    "1": "Silver",
                                    "2": "48"
                                },
                                {
                                    "0": "Mountain-100 Black, 38",
                                    "1": "Black",
                                    "2": "38"
                                },
                                {
                                    "0": "Mountain-100 Black, 42",
                                    "1": "Black",
                                    "2": "42"
                                },
                                {
                                    "0": "Mountain-100 Black, 44",
                                    "1": "Black",
                                    "2": "44"
                                },
                                {
                                    "0": "Mountain-100 Black, 48",
                                    "1": "Black",
                                    "2": "48"
                                },
                                {
                                    "0": "Mountain-200 Silver, 38",
                                    "1": "Silver",
                                    "2": "38"
                                },
                                {
                                    "0": "Mountain-200 Silver, 42",
                                    "1": "Silver",
                                    "2": "42"
                                },
                                {
                                    "0": "Mountain-200 Silver, 46",
                                    "1": "Silver",
                                    "2": "46"
                                },
                                {
                                    "0": "Mountain-200 Black, 38",
                                    "1": "Black",
                                    "2": "38"
                                },
                                {
                                    "0": "Mountain-200 Black, 42",
                                    "1": "Black",
                                    "2": "42"
                                },
                                {
                                    "0": "Mountain-200 Black, 46",
                                    "1": "Black",
                                    "2": "46"
                                },
                                {
                                    "0": "Mountain-300 Black, 38",
                                    "1": "Black",
                                    "2": "38"
                                },
                                {
                                    "0": "Mountain-300 Black, 40",
                                    "1": "Black",
                                    "2": "40"
                                },
                                {
                                    "0": "Mountain-300 Black, 44",
                                    "1": "Black",
                                    "2": "44"
                                },
                                {
                                    "0": "Mountain-300 Black, 48",
                                    "1": "Black",
                                    "2": "48"
                                },
                                {
                                    "0": "Road-250 Red, 44",
                                    "1": "Red",
                                    "2": "44"
                                },
                                {
                                    "0": "Road-250 Red, 48",
                                    "1": "Red",
                                    "2": "48"
                                },
                                {
                                    "0": "Road-250 Red, 52",
                                    "1": "Red",
                                    "2": "52"
                                },
                                {
                                    "0": "Road-250 Red, 58",
                                    "1": "Red",
                                    "2": "58"
                                },
                                {
                                    "0": "Road-250 Black, 44",
                                    "1": "Black",
                                    "2": "44"
                                },
                                {
                                    "0": "Road-250 Black, 48",
                                    "1": "Black",
                                    "2": "48"
                                },
                                {
                                    "0": "Road-250 Black, 52",
                                    "1": "Black",
                                    "2": "52"
                                },
                                {
                                    "0": "Road-250 Black, 58",
                                    "1": "Black",
                                    "2": "58"
                                },
                                {
                                    "0": "Road-550-W Yellow, 38",
                                    "1": "Yellow",
                                    "2": "38"
                                },
                                {
                                    "0": "Road-550-W Yellow, 40",
                                    "1": "Yellow",
                                    "2": "40"
                                },
                                {
                                    "0": "Road-550-W Yellow, 42",
                                    "1": "Yellow",
                                    "2": "42"
                                },
                                {
                                    "0": "Road-550-W Yellow, 44",
                                    "1": "Yellow",
                                    "2": "44"
                                },
                                {
                                    "0": "Road-550-W Yellow, 48",
                                    "1": "Yellow",
                                    "2": "48"
                                },
                                {
                                    "0": "LL Fork",
                                    "1": "NULL",
                                    "2": "NULL"
                                },
                                {
                                    "0": "ML Fork",
                                    "1": "NULL",
                                    "2": "NULL"
                                },
                                {
                                    "0": "HL Fork",
                                    "1": "NULL",
                                    "2": "NULL"
                                },
                                {
                                    "0": "LL Headset",
                                    "1": "NULL",
                                    "2": "NULL"
                                },
                                {
                                    "0": "ML Headset",
                                    "1": "NULL",
                                    "2": "NULL"
                                },
                                {
                                    "0": "HL Headset",
                                    "1": "NULL",
                                    "2": "NULL"
                                },
                                {
                                    "0": "LL Mountain Handlebars",
                                    "1": "NULL",
                                    "2": "NULL"
                                },
                                {
                                    "0": "ML Mountain Handlebars",
                                    "1": "NULL",
                                    "2": "NULL"
                                },
                                {
                                    "0": "HL Mountain Handlebars",
                                    "1": "NULL",
                                    "2": "NULL"
                                },
                                {
                                    "0": "LL Road Handlebars",
                                    "1": "NULL",
                                    "2": "NULL"
                                },
                                {
                                    "0": "ML Road Handlebars",
                                    "1": "NULL",
                                    "2": "NULL"
                                },
                                {
                                    "0": "HL Road Handlebars",
                                    "1": "NULL",
                                    "2": "NULL"
                                },
                                {
                                    "0": "ML Mountain Frame - Black, 38",
                                    "1": "Black",
                                    "2": "38"
                                },
                                {
                                    "0": "LL Mountain Front Wheel",
                                    "1": "Black",
                                    "2": "NULL"
                                },
                                {
                                    "0": "ML Mountain Front Wheel",
                                    "1": "Black",
                                    "2": "NULL"
                                },
                                {
                                    "0": "HL Mountain Front Wheel",
                                    "1": "Black",
                                    "2": "NULL"
                                },
                                {
                                    "0": "LL Road Front Wheel",
                                    "1": "Black",
                                    "2": "NULL"
                                },
                                {
                                    "0": "ML Road Front Wheel",
                                    "1": "Black",
                                    "2": "NULL"
                                },
                                {
                                    "0": "HL Road Front Wheel",
                                    "1": "Black",
                                    "2": "NULL"
                                },
                                {
                                    "0": "Touring Front Wheel",
                                    "1": "Black",
                                    "2": "NULL"
                                },
                                {
                                    "0": "ML Road Frame-W - Yellow, 38",
                                    "1": "Yellow",
                                    "2": "38"
                                },
                                {
                                    "0": "LL Mountain Rear Wheel",
                                    "1": "Black",
                                    "2": "NULL"
                                },
                                {
                                    "0": "ML Mountain Rear Wheel",
                                    "1": "Black",
                                    "2": "NULL"
                                },
                                {
                                    "0": "HL Mountain Rear Wheel",
                                    "1": "Black",
                                    "2": "NULL"
                                },
                                {
                                    "0": "LL Road Rear Wheel",
                                    "1": "Black",
                                    "2": "NULL"
                                },
                                {
                                    "0": "ML Road Rear Wheel",
                                    "1": "Black",
                                    "2": "NULL"
                                },
                                {
                                    "0": "HL Road Rear Wheel",
                                    "1": "Black",
                                    "2": "NULL"
                                },
                                {
                                    "0": "Touring Rear Wheel",
                                    "1": "Black",
                                    "2": "NULL"
                                },
                                {
                                    "0": "ML Mountain Frame - Black, 40",
                                    "1": "Black",
                                    "2": "40"
                                },
                                {
                                    "0": "ML Mountain Frame - Black, 44",
                                    "1": "Black",
                                    "2": "44"
                                },
                                {
                                    "0": "ML Mountain Frame - Black, 48",
                                    "1": "Black",
                                    "2": "48"
                                },
                                {
                                    "0": "ML Road Frame-W - Yellow, 40",
                                    "1": "Yellow",
                                    "2": "40"
                                },
                                {
                                    "0": "ML Road Frame-W - Yellow, 42",
                                    "1": "Yellow",
                                    "2": "42"
                                },
                                {
                                    "0": "ML Road Frame-W - Yellow, 44",
                                    "1": "Yellow",
                                    "2": "44"
                                },
                                {
                                    "0": "ML Road Frame-W - Yellow, 48",
                                    "1": "Yellow",
                                    "2": "48"
                                },
                                {
                                    "0": "Men's Sports Shorts, S",
                                    "1": "Black",
                                    "2": "S"
                                },
                                {
                                    "0": "Touring-Panniers, Large",
                                    "1": "Grey",
                                    "2": "NULL"
                                },
                                {
                                    "0": "Cable Lock",
                                    "1": "NULL",
                                    "2": "NULL"
                                },
                                {
                                    "0": "Minipump",
                                    "1": "NULL",
                                    "2": "NULL"
                                },
                                {
                                    "0": "Mountain Pump",
                                    "1": "NULL",
                                    "2": "NULL"
                                },
                                {
                                    "0": "Taillights - Battery-Powered",
                                    "1": "NULL",
                                    "2": "NULL"
                                },
                                {
                                    "0": "Headlights - Dual-Beam",
                                    "1": "NULL",
                                    "2": "NULL"
                                },
                                {
                                    "0": "Headlights - Weatherproof",
                                    "1": "NULL",
                                    "2": "NULL"
                                },
                                {
                                    "0": "Men's Sports Shorts, M",
                                    "1": "Black",
                                    "2": "M"
                                },
                                {
                                    "0": "Men's Sports Shorts, L",
                                    "1": "Black",
                                    "2": "L"
                                },
                                {
                                    "0": "Men's Sports Shorts, XL",
                                    "1": "Black",
                                    "2": "XL"
                                },
                                {
                                    "0": "Women's Tights, S",
                                    "1": "Black",
                                    "2": "S"
                                },
                                {
                                    "0": "Women's Tights, M",
                                    "1": "Black",
                                    "2": "M"
                                },
                                {
                                    "0": "Women's Tights, L",
                                    "1": "Black",
                                    "2": "L"
                                },
                                {
                                    "0": "Men's Bib-Shorts, S",
                                    "1": "Multi",
                                    "2": "S"
                                },
                                {
                                    "0": "Men's Bib-Shorts, M",
                                    "1": "Multi",
                                    "2": "M"
                                },
                                {
                                    "0": "Men's Bib-Shorts, L",
                                    "1": "Multi",
                                    "2": "L"
                                },
                                {
                                    "0": "Half-Finger Gloves, S",
                                    "1": "Black",
                                    "2": "S"
                                },
                                {
                                    "0": "Half-Finger Gloves, M",
                                    "1": "Black",
                                    "2": "M"
                                },
                                {
                                    "0": "Half-Finger Gloves, L",
                                    "1": "Black",
                                    "2": "L"
                                },
                                {
                                    "0": "Full-Finger Gloves, S",
                                    "1": "Black",
                                    "2": "S"
                                },
                                {
                                    "0": "Full-Finger Gloves, M",
                                    "1": "Black",
                                    "2": "M"
                                },
                                {
                                    "0": "Full-Finger Gloves, L",
                                    "1": "Black",
                                    "2": "L"
                                },
                                {
                                    "0": "Classic Vest, S",
                                    "1": "Blue",
                                    "2": "S"
                                },
                                {
                                    "0": "Classic Vest, M",
                                    "1": "Blue",
                                    "2": "M"
                                },
                                {
                                    "0": "Classic Vest, L",
                                    "1": "Blue",
                                    "2": "L"
                                },
                                {
                                    "0": "Women's Mountain Shorts, S",
                                    "1": "Black",
                                    "2": "S"
                                },
                                {
                                    "0": "Women's Mountain Shorts, M",
                                    "1": "Black",
                                    "2": "M"
                                },
                                {
                                    "0": "Women's Mountain Shorts, L",
                                    "1": "Black",
                                    "2": "L"
                                },
                                {
                                    "0": "Water Bottle - 30 oz.",
                                    "1": "NULL",
                                    "2": "NULL"
                                },
                                {
                                    "0": "Mountain Bottle Cage",
                                    "1": "NULL",
                                    "2": "NULL"
                                },
                                {
                                    "0": "Road Bottle Cage",
                                    "1": "NULL",
                                    "2": "NULL"
                                },
                                {
                                    "0": "Patch Kit/8 Patches",
                                    "1": "NULL",
                                    "2": "NULL"
                                },
                                {
                                    "0": "Racing Socks, M",
                                    "1": "White",
                                    "2": "M"
                                },
                                {
                                    "0": "Racing Socks, L",
                                    "1": "White",
                                    "2": "L"
                                },
                                {
                                    "0": "Hitch Rack - 4-Bike",
                                    "1": "NULL",
                                    "2": "NULL"
                                },
                                {
                                    "0": "Bike Wash - Dissolver",
                                    "1": "NULL",
                                    "2": "NULL"
                                },
                                {
                                    "0": "Fender Set - Mountain",
                                    "1": "NULL",
                                    "2": "NULL"
                                },
                                {
                                    "0": "All-Purpose Bike Stand",
                                    "1": "NULL",
                                    "2": "NULL"
                                },
                                {
                                    "0": "Hydration Pack - 70 oz.",
                                    "1": "Silver",
                                    "2": "70"
                                },
                                {
                                    "0": "Short-Sleeve Classic Jersey, S",
                                    "1": "Yellow",
                                    "2": "S"
                                },
                                {
                                    "0": "Short-Sleeve Classic Jersey, M",
                                    "1": "Yellow",
                                    "2": "M"
                                },
                                {
                                    "0": "Short-Sleeve Classic Jersey, L",
                                    "1": "Yellow",
                                    "2": "L"
                                },
                                {
                                    "0": "Short-Sleeve Classic Jersey, XL",
                                    "1": "Yellow",
                                    "2": "XL"
                                },
                                {
                                    "0": "HL Touring Frame - Yellow, 60",
                                    "1": "Yellow",
                                    "2": "60"
                                },
                                {
                                    "0": "LL Touring Frame - Yellow, 62",
                                    "1": "Yellow",
                                    "2": "62"
                                },
                                {
                                    "0": "HL Touring Frame - Yellow, 46",
                                    "1": "Yellow",
                                    "2": "46"
                                },
                                {
                                    "0": "HL Touring Frame - Yellow, 50",
                                    "1": "Yellow",
                                    "2": "50"
                                },
                                {
                                    "0": "HL Touring Frame - Yellow, 54",
                                    "1": "Yellow",
                                    "2": "54"
                                },
                                {
                                    "0": "HL Touring Frame - Blue, 46",
                                    "1": "Blue",
                                    "2": "46"
                                },
                                {
                                    "0": "HL Touring Frame - Blue, 50",
                                    "1": "Blue",
                                    "2": "50"
                                },
                                {
                                    "0": "HL Touring Frame - Blue, 54",
                                    "1": "Blue",
                                    "2": "54"
                                },
                                {
                                    "0": "HL Touring Frame - Blue, 60",
                                    "1": "Blue",
                                    "2": "60"
                                },
                                {
                                    "0": "Rear Derailleur",
                                    "1": "Silver",
                                    "2": "NULL"
                                },
                                {
                                    "0": "LL Touring Frame - Blue, 50",
                                    "1": "Blue",
                                    "2": "50"
                                },
                                {
                                    "0": "LL Touring Frame - Blue, 54",
                                    "1": "Blue",
                                    "2": "54"
                                },
                                {
                                    "0": "LL Touring Frame - Blue, 58",
                                    "1": "Blue",
                                    "2": "58"
                                },
                                {
                                    "0": "LL Touring Frame - Blue, 62",
                                    "1": "Blue",
                                    "2": "62"
                                },
                                {
                                    "0": "LL Touring Frame - Yellow, 44",
                                    "1": "Yellow",
                                    "2": "44"
                                },
                                {
                                    "0": "LL Touring Frame - Yellow, 50",
                                    "1": "Yellow",
                                    "2": "50"
                                },
                                {
                                    "0": "LL Touring Frame - Yellow, 54",
                                    "1": "Yellow",
                                    "2": "54"
                                },
                                {
                                    "0": "LL Touring Frame - Yellow, 58",
                                    "1": "Yellow",
                                    "2": "58"
                                },
                                {
                                    "0": "LL Touring Frame - Blue, 44",
                                    "1": "Blue",
                                    "2": "44"
                                },
                                {
                                    "0": "ML Mountain Frame-W - Silver, 40",
                                    "1": "Silver",
                                    "2": "40"
                                },
                                {
                                    "0": "ML Mountain Frame-W - Silver, 42",
                                    "1": "Silver",
                                    "2": "42"
                                },
                                {
                                    "0": "ML Mountain Frame-W - Silver, 46",
                                    "1": "Silver",
                                    "2": "46"
                                },
                                {
                                    "0": "Rear Brakes",
                                    "1": "Silver",
                                    "2": "NULL"
                                },
                                {
                                    "0": "LL Mountain Seat/Saddle",
                                    "1": "NULL",
                                    "2": "NULL"
                                },
                                {
                                    "0": "ML Mountain Seat/Saddle",
                                    "1": "NULL",
                                    "2": "NULL"
                                },
                                {
                                    "0": "HL Mountain Seat/Saddle",
                                    "1": "NULL",
                                    "2": "NULL"
                                },
                                {
                                    "0": "LL Road Seat/Saddle",
                                    "1": "NULL",
                                    "2": "NULL"
                                },
                                {
                                    "0": "ML Road Seat/Saddle",
                                    "1": "NULL",
                                    "2": "NULL"
                                },
                                {
                                    "0": "HL Road Seat/Saddle",
                                    "1": "NULL",
                                    "2": "NULL"
                                },
                                {
                                    "0": "LL Touring Seat/Saddle",
                                    "1": "NULL",
                                    "2": "NULL"
                                },
                                {
                                    "0": "ML Touring Seat/Saddle",
                                    "1": "NULL",
                                    "2": "NULL"
                                },
                                {
                                    "0": "HL Touring Seat/Saddle",
                                    "1": "NULL",
                                    "2": "NULL"
                                },
                                {
                                    "0": "LL Mountain Frame - Silver, 42",
                                    "1": "Silver",
                                    "2": "42"
                                },
                                {
                                    "0": "LL Mountain Frame - Silver, 44",
                                    "1": "Silver",
                                    "2": "44"
                                },
                                {
                                    "0": "LL Mountain Frame - Silver, 48",
                                    "1": "Silver",
                                    "2": "48"
                                },
                                {
                                    "0": "LL Mountain Frame - Silver, 52",
                                    "1": "Silver",
                                    "2": "52"
                                },
                                {
                                    "0": "Mountain Tire Tube",
                                    "1": "NULL",
                                    "2": "NULL"
                                },
                                {
                                    "0": "Road Tire Tube",
                                    "1": "NULL",
                                    "2": "NULL"
                                },
                                {
                                    "0": "Touring Tire Tube",
                                    "1": "NULL",
                                    "2": "NULL"
                                },
                                {
                                    "0": "LL Mountain Frame - Black, 42",
                                    "1": "Black",
                                    "2": "42"
                                },
                                {
                                    "0": "LL Mountain Frame - Black, 44",
                                    "1": "Black",
                                    "2": "44"
                                },
                                {
                                    "0": "LL Mountain Frame - Black, 48",
                                    "1": "Black",
                                    "2": "48"
                                },
                                {
                                    "0": "LL Mountain Frame - Black, 52",
                                    "1": "Black",
                                    "2": "52"
                                },
                                {
                                    "0": "LL Mountain Tire",
                                    "1": "NULL",
                                    "2": "NULL"
                                },
                                {
                                    "0": "ML Mountain Tire",
                                    "1": "NULL",
                                    "2": "NULL"
                                },
                                {
                                    "0": "HL Mountain Tire",
                                    "1": "NULL",
                                    "2": "NULL"
                                },
                                {
                                    "0": "LL Road Tire",
                                    "1": "NULL",
                                    "2": "NULL"
                                },
                                {
                                    "0": "ML Road Tire",
                                    "1": "NULL",
                                    "2": "NULL"
                                },
                                {
                                    "0": "HL Road Tire",
                                    "1": "NULL",
                                    "2": "NULL"
                                },
                                {
                                    "0": "Touring Tire",
                                    "1": "NULL",
                                    "2": "NULL"
                                },
                                {
                                    "0": "LL Mountain Pedal",
                                    "1": "Silver/Black",
                                    "2": "NULL"
                                },
                                {
                                    "0": "ML Mountain Pedal",
                                    "1": "Silver/Black",
                                    "2": "NULL"
                                },
                                {
                                    "0": "HL Mountain Pedal",
                                    "1": "Silver/Black",
                                    "2": "NULL"
                                },
                                {
                                    "0": "LL Road Pedal",
                                    "1": "Silver/Black",
                                    "2": "NULL"
                                },
                                {
                                    "0": "ML Road Pedal",
                                    "1": "Silver/Black",
                                    "2": "NULL"
                                },
                                {
                                    "0": "HL Road Pedal",
                                    "1": "Silver/Black",
                                    "2": "NULL"
                                },
                                {
                                    "0": "Touring Pedal",
                                    "1": "Silver/Black",
                                    "2": "NULL"
                                },
                                {
                                    "0": "ML Mountain Frame-W - Silver, 38",
                                    "1": "Silver",
                                    "2": "38"
                                },
                                {
                                    "0": "LL Mountain Frame - Black, 40",
                                    "1": "Black",
                                    "2": "40"
                                },
                                {
                                    "0": "LL Mountain Frame - Silver, 40",
                                    "1": "Silver",
                                    "2": "40"
                                },
                                {
                                    "0": "Front Derailleur",
                                    "1": "Silver",
                                    "2": "NULL"
                                },
                                {
                                    "0": "LL Touring Handlebars",
                                    "1": "NULL",
                                    "2": "NULL"
                                },
                                {
                                    "0": "HL Touring Handlebars",
                                    "1": "NULL",
                                    "2": "NULL"
                                },
                                {
                                    "0": "Front Brakes",
                                    "1": "Silver",
                                    "2": "NULL"
                                },
                                {
                                    "0": "LL Crankset",
                                    "1": "Black",
                                    "2": "NULL"
                                },
                                {
                                    "0": "ML Crankset",
                                    "1": "Black",
                                    "2": "NULL"
                                },
                                {
                                    "0": "HL Crankset",
                                    "1": "Black",
                                    "2": "NULL"
                                },
                                {
                                    "0": "Chain",
                                    "1": "Silver",
                                    "2": "NULL"
                                },
                                {
                                    "0": "Touring-2000 Blue, 60",
                                    "1": "Blue",
                                    "2": "60"
                                },
                                {
                                    "0": "Touring-1000 Yellow, 46",
                                    "1": "Yellow",
                                    "2": "46"
                                },
                                {
                                    "0": "Touring-1000 Yellow, 50",
                                    "1": "Yellow",
                                    "2": "50"
                                },
                                {
                                    "0": "Touring-1000 Yellow, 54",
                                    "1": "Yellow",
                                    "2": "54"
                                },
                                {
                                    "0": "Touring-1000 Yellow, 60",
                                    "1": "Yellow",
                                    "2": "60"
                                },
                                {
                                    "0": "Touring-3000 Blue, 54",
                                    "1": "Blue",
                                    "2": "54"
                                },
                                {
                                    "0": "Touring-3000 Blue, 58",
                                    "1": "Blue",
                                    "2": "58"
                                },
                                {
                                    "0": "Touring-3000 Blue, 62",
                                    "1": "Blue",
                                    "2": "62"
                                },
                                {
                                    "0": "Touring-3000 Yellow, 44",
                                    "1": "Yellow",
                                    "2": "44"
                                },
                                {
                                    "0": "Touring-3000 Yellow, 50",
                                    "1": "Yellow",
                                    "2": "50"
                                },
                                {
                                    "0": "Touring-3000 Yellow, 54",
                                    "1": "Yellow",
                                    "2": "54"
                                },
                                {
                                    "0": "Touring-3000 Yellow, 58",
                                    "1": "Yellow",
                                    "2": "58"
                                },
                                {
                                    "0": "Touring-3000 Yellow, 62",
                                    "1": "Yellow",
                                    "2": "62"
                                },
                                {
                                    "0": "Touring-1000 Blue, 46",
                                    "1": "Blue",
                                    "2": "46"
                                },
                                {
                                    "0": "Touring-1000 Blue, 50",
                                    "1": "Blue",
                                    "2": "50"
                                },
                                {
                                    "0": "Touring-1000 Blue, 54",
                                    "1": "Blue",
                                    "2": "54"
                                },
                                {
                                    "0": "Touring-1000 Blue, 60",
                                    "1": "Blue",
                                    "2": "60"
                                },
                                {
                                    "0": "Touring-2000 Blue, 46",
                                    "1": "Blue",
                                    "2": "46"
                                },
                                {
                                    "0": "Touring-2000 Blue, 50",
                                    "1": "Blue",
                                    "2": "50"
                                },
                                {
                                    "0": "Touring-2000 Blue, 54",
                                    "1": "Blue",
                                    "2": "54"
                                },
                                {
                                    "0": "Road-350-W Yellow, 40",
                                    "1": "Yellow",
                                    "2": "40"
                                },
                                {
                                    "0": "Road-350-W Yellow, 42",
                                    "1": "Yellow",
                                    "2": "42"
                                },
                                {
                                    "0": "Road-350-W Yellow, 44",
                                    "1": "Yellow",
                                    "2": "44"
                                },
                                {
                                    "0": "Road-350-W Yellow, 48",
                                    "1": "Yellow",
                                    "2": "48"
                                },
                                {
                                    "0": "Road-750 Black, 58",
                                    "1": "Black",
                                    "2": "58"
                                },
                                {
                                    "0": "Touring-3000 Blue, 44",
                                    "1": "Blue",
                                    "2": "44"
                                },
                                {
                                    "0": "Touring-3000 Blue, 50",
                                    "1": "Blue",
                                    "2": "50"
                                },
                                {
                                    "0": "Mountain-400-W Silver, 38",
                                    "1": "Silver",
                                    "2": "38"
                                },
                                {
                                    "0": "Mountain-400-W Silver, 40",
                                    "1": "Silver",
                                    "2": "40"
                                },
                                {
                                    "0": "Mountain-400-W Silver, 42",
                                    "1": "Silver",
                                    "2": "42"
                                },
                                {
                                    "0": "Mountain-400-W Silver, 46",
                                    "1": "Silver",
                                    "2": "46"
                                },
                                {
                                    "0": "Mountain-500 Silver, 40",
                                    "1": "Silver",
                                    "2": "40"
                                },
                                {
                                    "0": "Mountain-500 Silver, 42",
                                    "1": "Silver",
                                    "2": "42"
                                },
                                {
                                    "0": "Mountain-500 Silver, 44",
                                    "1": "Silver",
                                    "2": "44"
                                },
                                {
                                    "0": "Mountain-500 Silver, 48",
                                    "1": "Silver",
                                    "2": "48"
                                },
                                {
                                    "0": "Mountain-500 Silver, 52",
                                    "1": "Silver",
                                    "2": "52"
                                },
                                {
                                    "0": "Mountain-500 Black, 40",
                                    "1": "Black",
                                    "2": "40"
                                },
                                {
                                    "0": "Mountain-500 Black, 42",
                                    "1": "Black",
                                    "2": "42"
                                },
                                {
                                    "0": "Mountain-500 Black, 44",
                                    "1": "Black",
                                    "2": "44"
                                },
                                {
                                    "0": "Mountain-500 Black, 48",
                                    "1": "Black",
                                    "2": "48"
                                },
                                {
                                    "0": "Mountain-500 Black, 52",
                                    "1": "Black",
                                    "2": "52"
                                },
                                {
                                    "0": "LL Bottom Bracket",
                                    "1": "NULL",
                                    "2": "NULL"
                                },
                                {
                                    "0": "ML Bottom Bracket",
                                    "1": "NULL",
                                    "2": "NULL"
                                },
                                {
                                    "0": "HL Bottom Bracket",
                                    "1": "NULL",
                                    "2": "NULL"
                                },
                                {
                                    "0": "Road-750 Black, 44",
                                    "1": "Black",
                                    "2": "44"
                                },
                                {
                                    "0": "Road-750 Black, 48",
                                    "1": "Black",
                                    "2": "48"
                                },
                                {
                                    "0": "Road-750 Black, 52",
                                    "1": "Black",
                                    "2": "52"
                                }
                            ]
                        },
                        "text/html": "<table><tr><th>Name</th><th>Color</th><th>Size</th></tr><tr><td>Sport-100 Helmet, Red</td><td>Red</td><td>NULL</td></tr><tr><td>Sport-100 Helmet, Black</td><td>Black</td><td>NULL</td></tr><tr><td>Mountain Bike Socks, M</td><td>White</td><td>M</td></tr><tr><td>Mountain Bike Socks, L</td><td>White</td><td>L</td></tr><tr><td>Sport-100 Helmet, Blue</td><td>Blue</td><td>NULL</td></tr><tr><td>AWC Logo Cap</td><td>Multi</td><td>NULL</td></tr><tr><td>Long-Sleeve Logo Jersey, S</td><td>Multi</td><td>S</td></tr><tr><td>Long-Sleeve Logo Jersey, M</td><td>Multi</td><td>M</td></tr><tr><td>Long-Sleeve Logo Jersey, L</td><td>Multi</td><td>L</td></tr><tr><td>Long-Sleeve Logo Jersey, XL</td><td>Multi</td><td>XL</td></tr><tr><td>LL Road Frame - Black, 58</td><td>Black</td><td>58</td></tr><tr><td>LL Road Frame - Black, 60</td><td>Black</td><td>60</td></tr><tr><td>LL Road Frame - Black, 62</td><td>Black</td><td>62</td></tr><tr><td>LL Road Frame - Red, 44</td><td>Red</td><td>44</td></tr><tr><td>LL Road Frame - Red, 48</td><td>Red</td><td>48</td></tr><tr><td>LL Road Frame - Red, 52</td><td>Red</td><td>52</td></tr><tr><td>LL Road Frame - Red, 58</td><td>Red</td><td>58</td></tr><tr><td>LL Road Frame - Red, 60</td><td>Red</td><td>60</td></tr><tr><td>LL Road Frame - Red, 62</td><td>Red</td><td>62</td></tr><tr><td>ML Road Frame - Red, 44</td><td>Red</td><td>44</td></tr><tr><td>ML Road Frame - Red, 48</td><td>Red</td><td>48</td></tr><tr><td>ML Road Frame - Red, 52</td><td>Red</td><td>52</td></tr><tr><td>ML Road Frame - Red, 58</td><td>Red</td><td>58</td></tr><tr><td>ML Road Frame - Red, 60</td><td>Red</td><td>60</td></tr><tr><td>LL Road Frame - Black, 44</td><td>Black</td><td>44</td></tr><tr><td>LL Road Frame - Black, 48</td><td>Black</td><td>48</td></tr><tr><td>LL Road Frame - Black, 52</td><td>Black</td><td>52</td></tr><tr><td>HL Mountain Frame - Silver, 42</td><td>Silver</td><td>42</td></tr><tr><td>HL Mountain Frame - Silver, 44</td><td>Silver</td><td>44</td></tr><tr><td>HL Mountain Frame - Silver, 48</td><td>Silver</td><td>48</td></tr><tr><td>HL Mountain Frame - Silver, 46</td><td>Silver</td><td>46</td></tr><tr><td>HL Mountain Frame - Black, 42</td><td>Black</td><td>42</td></tr><tr><td>HL Mountain Frame - Black, 44</td><td>Black</td><td>44</td></tr><tr><td>HL Mountain Frame - Black, 48</td><td>Black</td><td>48</td></tr><tr><td>HL Mountain Frame - Black, 46</td><td>Black</td><td>46</td></tr><tr><td>HL Mountain Frame - Black, 38</td><td>Black</td><td>38</td></tr><tr><td>HL Mountain Frame - Silver, 38</td><td>Silver</td><td>38</td></tr><tr><td>Road-150 Red, 62</td><td>Red</td><td>62</td></tr><tr><td>Road-150 Red, 44</td><td>Red</td><td>44</td></tr><tr><td>Road-150 Red, 48</td><td>Red</td><td>48</td></tr><tr><td>Road-150 Red, 52</td><td>Red</td><td>52</td></tr><tr><td>Road-150 Red, 56</td><td>Red</td><td>56</td></tr><tr><td>Road-450 Red, 58</td><td>Red</td><td>58</td></tr><tr><td>Road-450 Red, 60</td><td>Red</td><td>60</td></tr><tr><td>Road-450 Red, 44</td><td>Red</td><td>44</td></tr><tr><td>Road-450 Red, 48</td><td>Red</td><td>48</td></tr><tr><td>Road-450 Red, 52</td><td>Red</td><td>52</td></tr><tr><td>Road-650 Red, 58</td><td>Red</td><td>58</td></tr><tr><td>Road-650 Red, 60</td><td>Red</td><td>60</td></tr><tr><td>Road-650 Red, 62</td><td>Red</td><td>62</td></tr><tr><td>Road-650 Red, 44</td><td>Red</td><td>44</td></tr><tr><td>Road-650 Red, 48</td><td>Red</td><td>48</td></tr><tr><td>Road-650 Red, 52</td><td>Red</td><td>52</td></tr><tr><td>Road-650 Black, 58</td><td>Black</td><td>58</td></tr><tr><td>Road-650 Black, 60</td><td>Black</td><td>60</td></tr><tr><td>Road-650 Black, 62</td><td>Black</td><td>62</td></tr><tr><td>Road-650 Black, 44</td><td>Black</td><td>44</td></tr><tr><td>Road-650 Black, 48</td><td>Black</td><td>48</td></tr><tr><td>Road-650 Black, 52</td><td>Black</td><td>52</td></tr><tr><td>Mountain-100 Silver, 38</td><td>Silver</td><td>38</td></tr><tr><td>Mountain-100 Silver, 42</td><td>Silver</td><td>42</td></tr><tr><td>Mountain-100 Silver, 44</td><td>Silver</td><td>44</td></tr><tr><td>Mountain-100 Silver, 48</td><td>Silver</td><td>48</td></tr><tr><td>Mountain-100 Black, 38</td><td>Black</td><td>38</td></tr><tr><td>Mountain-100 Black, 42</td><td>Black</td><td>42</td></tr><tr><td>Mountain-100 Black, 44</td><td>Black</td><td>44</td></tr><tr><td>Mountain-100 Black, 48</td><td>Black</td><td>48</td></tr><tr><td>Mountain-200 Silver, 38</td><td>Silver</td><td>38</td></tr><tr><td>Mountain-200 Silver, 42</td><td>Silver</td><td>42</td></tr><tr><td>Mountain-200 Silver, 46</td><td>Silver</td><td>46</td></tr><tr><td>Mountain-200 Black, 38</td><td>Black</td><td>38</td></tr><tr><td>Mountain-200 Black, 42</td><td>Black</td><td>42</td></tr><tr><td>Mountain-200 Black, 46</td><td>Black</td><td>46</td></tr><tr><td>Mountain-300 Black, 38</td><td>Black</td><td>38</td></tr><tr><td>Mountain-300 Black, 40</td><td>Black</td><td>40</td></tr><tr><td>Mountain-300 Black, 44</td><td>Black</td><td>44</td></tr><tr><td>Mountain-300 Black, 48</td><td>Black</td><td>48</td></tr><tr><td>Road-250 Red, 44</td><td>Red</td><td>44</td></tr><tr><td>Road-250 Red, 48</td><td>Red</td><td>48</td></tr><tr><td>Road-250 Red, 52</td><td>Red</td><td>52</td></tr><tr><td>Road-250 Red, 58</td><td>Red</td><td>58</td></tr><tr><td>Road-250 Black, 44</td><td>Black</td><td>44</td></tr><tr><td>Road-250 Black, 48</td><td>Black</td><td>48</td></tr><tr><td>Road-250 Black, 52</td><td>Black</td><td>52</td></tr><tr><td>Road-250 Black, 58</td><td>Black</td><td>58</td></tr><tr><td>Road-550-W Yellow, 38</td><td>Yellow</td><td>38</td></tr><tr><td>Road-550-W Yellow, 40</td><td>Yellow</td><td>40</td></tr><tr><td>Road-550-W Yellow, 42</td><td>Yellow</td><td>42</td></tr><tr><td>Road-550-W Yellow, 44</td><td>Yellow</td><td>44</td></tr><tr><td>Road-550-W Yellow, 48</td><td>Yellow</td><td>48</td></tr><tr><td>LL Fork</td><td>NULL</td><td>NULL</td></tr><tr><td>ML Fork</td><td>NULL</td><td>NULL</td></tr><tr><td>HL Fork</td><td>NULL</td><td>NULL</td></tr><tr><td>LL Headset</td><td>NULL</td><td>NULL</td></tr><tr><td>ML Headset</td><td>NULL</td><td>NULL</td></tr><tr><td>HL Headset</td><td>NULL</td><td>NULL</td></tr><tr><td>LL Mountain Handlebars</td><td>NULL</td><td>NULL</td></tr><tr><td>ML Mountain Handlebars</td><td>NULL</td><td>NULL</td></tr><tr><td>HL Mountain Handlebars</td><td>NULL</td><td>NULL</td></tr><tr><td>LL Road Handlebars</td><td>NULL</td><td>NULL</td></tr><tr><td>ML Road Handlebars</td><td>NULL</td><td>NULL</td></tr><tr><td>HL Road Handlebars</td><td>NULL</td><td>NULL</td></tr><tr><td>ML Mountain Frame - Black, 38</td><td>Black</td><td>38</td></tr><tr><td>LL Mountain Front Wheel</td><td>Black</td><td>NULL</td></tr><tr><td>ML Mountain Front Wheel</td><td>Black</td><td>NULL</td></tr><tr><td>HL Mountain Front Wheel</td><td>Black</td><td>NULL</td></tr><tr><td>LL Road Front Wheel</td><td>Black</td><td>NULL</td></tr><tr><td>ML Road Front Wheel</td><td>Black</td><td>NULL</td></tr><tr><td>HL Road Front Wheel</td><td>Black</td><td>NULL</td></tr><tr><td>Touring Front Wheel</td><td>Black</td><td>NULL</td></tr><tr><td>ML Road Frame-W - Yellow, 38</td><td>Yellow</td><td>38</td></tr><tr><td>LL Mountain Rear Wheel</td><td>Black</td><td>NULL</td></tr><tr><td>ML Mountain Rear Wheel</td><td>Black</td><td>NULL</td></tr><tr><td>HL Mountain Rear Wheel</td><td>Black</td><td>NULL</td></tr><tr><td>LL Road Rear Wheel</td><td>Black</td><td>NULL</td></tr><tr><td>ML Road Rear Wheel</td><td>Black</td><td>NULL</td></tr><tr><td>HL Road Rear Wheel</td><td>Black</td><td>NULL</td></tr><tr><td>Touring Rear Wheel</td><td>Black</td><td>NULL</td></tr><tr><td>ML Mountain Frame - Black, 40</td><td>Black</td><td>40</td></tr><tr><td>ML Mountain Frame - Black, 44</td><td>Black</td><td>44</td></tr><tr><td>ML Mountain Frame - Black, 48</td><td>Black</td><td>48</td></tr><tr><td>ML Road Frame-W - Yellow, 40</td><td>Yellow</td><td>40</td></tr><tr><td>ML Road Frame-W - Yellow, 42</td><td>Yellow</td><td>42</td></tr><tr><td>ML Road Frame-W - Yellow, 44</td><td>Yellow</td><td>44</td></tr><tr><td>ML Road Frame-W - Yellow, 48</td><td>Yellow</td><td>48</td></tr><tr><td>Men's Sports Shorts, S</td><td>Black</td><td>S</td></tr><tr><td>Touring-Panniers, Large</td><td>Grey</td><td>NULL</td></tr><tr><td>Cable Lock</td><td>NULL</td><td>NULL</td></tr><tr><td>Minipump</td><td>NULL</td><td>NULL</td></tr><tr><td>Mountain Pump</td><td>NULL</td><td>NULL</td></tr><tr><td>Taillights - Battery-Powered</td><td>NULL</td><td>NULL</td></tr><tr><td>Headlights - Dual-Beam</td><td>NULL</td><td>NULL</td></tr><tr><td>Headlights - Weatherproof</td><td>NULL</td><td>NULL</td></tr><tr><td>Men's Sports Shorts, M</td><td>Black</td><td>M</td></tr><tr><td>Men's Sports Shorts, L</td><td>Black</td><td>L</td></tr><tr><td>Men's Sports Shorts, XL</td><td>Black</td><td>XL</td></tr><tr><td>Women's Tights, S</td><td>Black</td><td>S</td></tr><tr><td>Women's Tights, M</td><td>Black</td><td>M</td></tr><tr><td>Women's Tights, L</td><td>Black</td><td>L</td></tr><tr><td>Men's Bib-Shorts, S</td><td>Multi</td><td>S</td></tr><tr><td>Men's Bib-Shorts, M</td><td>Multi</td><td>M</td></tr><tr><td>Men's Bib-Shorts, L</td><td>Multi</td><td>L</td></tr><tr><td>Half-Finger Gloves, S</td><td>Black</td><td>S</td></tr><tr><td>Half-Finger Gloves, M</td><td>Black</td><td>M</td></tr><tr><td>Half-Finger Gloves, L</td><td>Black</td><td>L</td></tr><tr><td>Full-Finger Gloves, S</td><td>Black</td><td>S</td></tr><tr><td>Full-Finger Gloves, M</td><td>Black</td><td>M</td></tr><tr><td>Full-Finger Gloves, L</td><td>Black</td><td>L</td></tr><tr><td>Classic Vest, S</td><td>Blue</td><td>S</td></tr><tr><td>Classic Vest, M</td><td>Blue</td><td>M</td></tr><tr><td>Classic Vest, L</td><td>Blue</td><td>L</td></tr><tr><td>Women's Mountain Shorts, S</td><td>Black</td><td>S</td></tr><tr><td>Women's Mountain Shorts, M</td><td>Black</td><td>M</td></tr><tr><td>Women's Mountain Shorts, L</td><td>Black</td><td>L</td></tr><tr><td>Water Bottle - 30 oz.</td><td>NULL</td><td>NULL</td></tr><tr><td>Mountain Bottle Cage</td><td>NULL</td><td>NULL</td></tr><tr><td>Road Bottle Cage</td><td>NULL</td><td>NULL</td></tr><tr><td>Patch Kit/8 Patches</td><td>NULL</td><td>NULL</td></tr><tr><td>Racing Socks, M</td><td>White</td><td>M</td></tr><tr><td>Racing Socks, L</td><td>White</td><td>L</td></tr><tr><td>Hitch Rack - 4-Bike</td><td>NULL</td><td>NULL</td></tr><tr><td>Bike Wash - Dissolver</td><td>NULL</td><td>NULL</td></tr><tr><td>Fender Set - Mountain</td><td>NULL</td><td>NULL</td></tr><tr><td>All-Purpose Bike Stand</td><td>NULL</td><td>NULL</td></tr><tr><td>Hydration Pack - 70 oz.</td><td>Silver</td><td>70</td></tr><tr><td>Short-Sleeve Classic Jersey, S</td><td>Yellow</td><td>S</td></tr><tr><td>Short-Sleeve Classic Jersey, M</td><td>Yellow</td><td>M</td></tr><tr><td>Short-Sleeve Classic Jersey, L</td><td>Yellow</td><td>L</td></tr><tr><td>Short-Sleeve Classic Jersey, XL</td><td>Yellow</td><td>XL</td></tr><tr><td>HL Touring Frame - Yellow, 60</td><td>Yellow</td><td>60</td></tr><tr><td>LL Touring Frame - Yellow, 62</td><td>Yellow</td><td>62</td></tr><tr><td>HL Touring Frame - Yellow, 46</td><td>Yellow</td><td>46</td></tr><tr><td>HL Touring Frame - Yellow, 50</td><td>Yellow</td><td>50</td></tr><tr><td>HL Touring Frame - Yellow, 54</td><td>Yellow</td><td>54</td></tr><tr><td>HL Touring Frame - Blue, 46</td><td>Blue</td><td>46</td></tr><tr><td>HL Touring Frame - Blue, 50</td><td>Blue</td><td>50</td></tr><tr><td>HL Touring Frame - Blue, 54</td><td>Blue</td><td>54</td></tr><tr><td>HL Touring Frame - Blue, 60</td><td>Blue</td><td>60</td></tr><tr><td>Rear Derailleur</td><td>Silver</td><td>NULL</td></tr><tr><td>LL Touring Frame - Blue, 50</td><td>Blue</td><td>50</td></tr><tr><td>LL Touring Frame - Blue, 54</td><td>Blue</td><td>54</td></tr><tr><td>LL Touring Frame - Blue, 58</td><td>Blue</td><td>58</td></tr><tr><td>LL Touring Frame - Blue, 62</td><td>Blue</td><td>62</td></tr><tr><td>LL Touring Frame - Yellow, 44</td><td>Yellow</td><td>44</td></tr><tr><td>LL Touring Frame - Yellow, 50</td><td>Yellow</td><td>50</td></tr><tr><td>LL Touring Frame - Yellow, 54</td><td>Yellow</td><td>54</td></tr><tr><td>LL Touring Frame - Yellow, 58</td><td>Yellow</td><td>58</td></tr><tr><td>LL Touring Frame - Blue, 44</td><td>Blue</td><td>44</td></tr><tr><td>ML Mountain Frame-W - Silver, 40</td><td>Silver</td><td>40</td></tr><tr><td>ML Mountain Frame-W - Silver, 42</td><td>Silver</td><td>42</td></tr><tr><td>ML Mountain Frame-W - Silver, 46</td><td>Silver</td><td>46</td></tr><tr><td>Rear Brakes</td><td>Silver</td><td>NULL</td></tr><tr><td>LL Mountain Seat/Saddle</td><td>NULL</td><td>NULL</td></tr><tr><td>ML Mountain Seat/Saddle</td><td>NULL</td><td>NULL</td></tr><tr><td>HL Mountain Seat/Saddle</td><td>NULL</td><td>NULL</td></tr><tr><td>LL Road Seat/Saddle</td><td>NULL</td><td>NULL</td></tr><tr><td>ML Road Seat/Saddle</td><td>NULL</td><td>NULL</td></tr><tr><td>HL Road Seat/Saddle</td><td>NULL</td><td>NULL</td></tr><tr><td>LL Touring Seat/Saddle</td><td>NULL</td><td>NULL</td></tr><tr><td>ML Touring Seat/Saddle</td><td>NULL</td><td>NULL</td></tr><tr><td>HL Touring Seat/Saddle</td><td>NULL</td><td>NULL</td></tr><tr><td>LL Mountain Frame - Silver, 42</td><td>Silver</td><td>42</td></tr><tr><td>LL Mountain Frame - Silver, 44</td><td>Silver</td><td>44</td></tr><tr><td>LL Mountain Frame - Silver, 48</td><td>Silver</td><td>48</td></tr><tr><td>LL Mountain Frame - Silver, 52</td><td>Silver</td><td>52</td></tr><tr><td>Mountain Tire Tube</td><td>NULL</td><td>NULL</td></tr><tr><td>Road Tire Tube</td><td>NULL</td><td>NULL</td></tr><tr><td>Touring Tire Tube</td><td>NULL</td><td>NULL</td></tr><tr><td>LL Mountain Frame - Black, 42</td><td>Black</td><td>42</td></tr><tr><td>LL Mountain Frame - Black, 44</td><td>Black</td><td>44</td></tr><tr><td>LL Mountain Frame - Black, 48</td><td>Black</td><td>48</td></tr><tr><td>LL Mountain Frame - Black, 52</td><td>Black</td><td>52</td></tr><tr><td>LL Mountain Tire</td><td>NULL</td><td>NULL</td></tr><tr><td>ML Mountain Tire</td><td>NULL</td><td>NULL</td></tr><tr><td>HL Mountain Tire</td><td>NULL</td><td>NULL</td></tr><tr><td>LL Road Tire</td><td>NULL</td><td>NULL</td></tr><tr><td>ML Road Tire</td><td>NULL</td><td>NULL</td></tr><tr><td>HL Road Tire</td><td>NULL</td><td>NULL</td></tr><tr><td>Touring Tire</td><td>NULL</td><td>NULL</td></tr><tr><td>LL Mountain Pedal</td><td>Silver/Black</td><td>NULL</td></tr><tr><td>ML Mountain Pedal</td><td>Silver/Black</td><td>NULL</td></tr><tr><td>HL Mountain Pedal</td><td>Silver/Black</td><td>NULL</td></tr><tr><td>LL Road Pedal</td><td>Silver/Black</td><td>NULL</td></tr><tr><td>ML Road Pedal</td><td>Silver/Black</td><td>NULL</td></tr><tr><td>HL Road Pedal</td><td>Silver/Black</td><td>NULL</td></tr><tr><td>Touring Pedal</td><td>Silver/Black</td><td>NULL</td></tr><tr><td>ML Mountain Frame-W - Silver, 38</td><td>Silver</td><td>38</td></tr><tr><td>LL Mountain Frame - Black, 40</td><td>Black</td><td>40</td></tr><tr><td>LL Mountain Frame - Silver, 40</td><td>Silver</td><td>40</td></tr><tr><td>Front Derailleur</td><td>Silver</td><td>NULL</td></tr><tr><td>LL Touring Handlebars</td><td>NULL</td><td>NULL</td></tr><tr><td>HL Touring Handlebars</td><td>NULL</td><td>NULL</td></tr><tr><td>Front Brakes</td><td>Silver</td><td>NULL</td></tr><tr><td>LL Crankset</td><td>Black</td><td>NULL</td></tr><tr><td>ML Crankset</td><td>Black</td><td>NULL</td></tr><tr><td>HL Crankset</td><td>Black</td><td>NULL</td></tr><tr><td>Chain</td><td>Silver</td><td>NULL</td></tr><tr><td>Touring-2000 Blue, 60</td><td>Blue</td><td>60</td></tr><tr><td>Touring-1000 Yellow, 46</td><td>Yellow</td><td>46</td></tr><tr><td>Touring-1000 Yellow, 50</td><td>Yellow</td><td>50</td></tr><tr><td>Touring-1000 Yellow, 54</td><td>Yellow</td><td>54</td></tr><tr><td>Touring-1000 Yellow, 60</td><td>Yellow</td><td>60</td></tr><tr><td>Touring-3000 Blue, 54</td><td>Blue</td><td>54</td></tr><tr><td>Touring-3000 Blue, 58</td><td>Blue</td><td>58</td></tr><tr><td>Touring-3000 Blue, 62</td><td>Blue</td><td>62</td></tr><tr><td>Touring-3000 Yellow, 44</td><td>Yellow</td><td>44</td></tr><tr><td>Touring-3000 Yellow, 50</td><td>Yellow</td><td>50</td></tr><tr><td>Touring-3000 Yellow, 54</td><td>Yellow</td><td>54</td></tr><tr><td>Touring-3000 Yellow, 58</td><td>Yellow</td><td>58</td></tr><tr><td>Touring-3000 Yellow, 62</td><td>Yellow</td><td>62</td></tr><tr><td>Touring-1000 Blue, 46</td><td>Blue</td><td>46</td></tr><tr><td>Touring-1000 Blue, 50</td><td>Blue</td><td>50</td></tr><tr><td>Touring-1000 Blue, 54</td><td>Blue</td><td>54</td></tr><tr><td>Touring-1000 Blue, 60</td><td>Blue</td><td>60</td></tr><tr><td>Touring-2000 Blue, 46</td><td>Blue</td><td>46</td></tr><tr><td>Touring-2000 Blue, 50</td><td>Blue</td><td>50</td></tr><tr><td>Touring-2000 Blue, 54</td><td>Blue</td><td>54</td></tr><tr><td>Road-350-W Yellow, 40</td><td>Yellow</td><td>40</td></tr><tr><td>Road-350-W Yellow, 42</td><td>Yellow</td><td>42</td></tr><tr><td>Road-350-W Yellow, 44</td><td>Yellow</td><td>44</td></tr><tr><td>Road-350-W Yellow, 48</td><td>Yellow</td><td>48</td></tr><tr><td>Road-750 Black, 58</td><td>Black</td><td>58</td></tr><tr><td>Touring-3000 Blue, 44</td><td>Blue</td><td>44</td></tr><tr><td>Touring-3000 Blue, 50</td><td>Blue</td><td>50</td></tr><tr><td>Mountain-400-W Silver, 38</td><td>Silver</td><td>38</td></tr><tr><td>Mountain-400-W Silver, 40</td><td>Silver</td><td>40</td></tr><tr><td>Mountain-400-W Silver, 42</td><td>Silver</td><td>42</td></tr><tr><td>Mountain-400-W Silver, 46</td><td>Silver</td><td>46</td></tr><tr><td>Mountain-500 Silver, 40</td><td>Silver</td><td>40</td></tr><tr><td>Mountain-500 Silver, 42</td><td>Silver</td><td>42</td></tr><tr><td>Mountain-500 Silver, 44</td><td>Silver</td><td>44</td></tr><tr><td>Mountain-500 Silver, 48</td><td>Silver</td><td>48</td></tr><tr><td>Mountain-500 Silver, 52</td><td>Silver</td><td>52</td></tr><tr><td>Mountain-500 Black, 40</td><td>Black</td><td>40</td></tr><tr><td>Mountain-500 Black, 42</td><td>Black</td><td>42</td></tr><tr><td>Mountain-500 Black, 44</td><td>Black</td><td>44</td></tr><tr><td>Mountain-500 Black, 48</td><td>Black</td><td>48</td></tr><tr><td>Mountain-500 Black, 52</td><td>Black</td><td>52</td></tr><tr><td>LL Bottom Bracket</td><td>NULL</td><td>NULL</td></tr><tr><td>ML Bottom Bracket</td><td>NULL</td><td>NULL</td></tr><tr><td>HL Bottom Bracket</td><td>NULL</td><td>NULL</td></tr><tr><td>Road-750 Black, 44</td><td>Black</td><td>44</td></tr><tr><td>Road-750 Black, 48</td><td>Black</td><td>48</td></tr><tr><td>Road-750 Black, 52</td><td>Black</td><td>52</td></tr></table>"
                    }
                }
            ],
            "execution_count": 34
        },
        {
            "cell_type": "code",
            "source": [
                "SELECT ProductNumber, Name, ListPrice FROM SalesLT.Product WHERE ProductNumber LIKE 'FR%'"
            ],
            "metadata": {
                "azdata_cell_guid": "0348e65c-9624-485e-84bc-bc6c5dc4177f",
                "tags": []
            },
            "outputs": [],
            "execution_count": 12
        },
        {
            "cell_type": "code",
            "source": [
                "SELECT ProductNumber, Name, ListPrice FROM SalesLT.Product Where ProductNumber LIKE 'FR-_[0-9][0-9]_-[0-9][0-9]'"
            ],
            "metadata": {
                "azdata_cell_guid": "ac95c206-f7f5-420b-8162-c7c2380425ec",
                "tags": []
            },
            "outputs": [],
            "execution_count": 13
        },
        {
            "cell_type": "code",
            "source": [
                "SELECT ProductNumber, Name, ListPrice FROM SalesLT.Product WHERE ProductNumber NOT LIKE 'FR%'"
            ],
            "metadata": {
                "azdata_cell_guid": "022c0ac9-d8de-4d26-ab67-9dd035cc8392",
                "tags": []
            },
            "outputs": [],
            "execution_count": 14
        },
        {
            "cell_type": "code",
            "source": [
                "SELECT Name FROM SalesLT.Product WHERE SellEndDate BETWEEN '2003/1/1' AND '2006/12/31';"
            ],
            "metadata": {
                "azdata_cell_guid": "80ce2e42-923b-4a2e-b22a-74be260d60ba",
                "tags": []
            },
            "outputs": [],
            "execution_count": 15
        },
        {
            "cell_type": "code",
            "source": [
                "SELECT ProductCategoryID, Name, ListPrice, SellEndDate from SalesLT.Product WHERE ProductCategoryID IN (5,6,7)"
            ],
            "metadata": {
                "azdata_cell_guid": "64c9276a-365f-4c80-9539-a79fb17cfff4",
                "tags": []
            },
            "outputs": [],
            "execution_count": 16
        },
        {
            "cell_type": "code",
            "source": [
                "SELECT ProductCategoryID, Name, ListPrice, SellEndDate FROM SalesLT.Product WHERE ProductCategoryID IN (5, 6, 7) AND SellEndDate IS NULL;"
            ],
            "metadata": {
                "azdata_cell_guid": "b52e2097-7e51-4c3f-997a-e91722f20cbf",
                "tags": []
            },
            "outputs": [],
            "execution_count": 17
        },
        {
            "cell_type": "code",
            "source": [
                "SELECT Name, ProductCategoryID, ProductNumber FROM SalesLT.Product WHERE ProductNumber LIKE 'FR%' OR ProductCategoryID IN (5,6,7);"
            ],
            "metadata": {
                "azdata_cell_guid": "44bf19cb-f009-4d92-b652-77934f38efd1",
                "tags": []
            },
            "outputs": [],
            "execution_count": 18
        },
        {
            "cell_type": "markdown",
            "source": [
                "Join"
            ],
            "metadata": {
                "azdata_cell_guid": "3aad67a8-1f6f-4888-b823-5ca4581276fa"
            }
        },
        {
            "cell_type": "code",
            "source": [
                "SELECT SalesLT.Product.Name As ProductName, SalesLT.ProductCategory.Name AS Category\n",
                "FROM SalesLT.Product INNER JOIN SalesLT.ProductCategory\n",
                "ON SalesLT.Product.ProductCategoryID = SalesLT.ProductCategory.ProductCategoryID;\n",
                ""
            ],
            "metadata": {
                "azdata_cell_guid": "4eec620c-da44-44cd-a1d2-ef0ed85079d5",
                "tags": []
            },
            "outputs": [],
            "execution_count": 19
        },
        {
            "cell_type": "code",
            "source": [
                "SELECT p.Name As ProductName, c.Name AS Category\n",
                "FROM SalesLT.Product AS p\n",
                "JOIN SalesLT.ProductCategory As c\n",
                "ON p.ProductCategoryID = c.ProductCategoryID;"
            ],
            "metadata": {
                "azdata_cell_guid": "525b5fcd-ca76-4fbd-97ff-957a8126af20",
                "tags": []
            },
            "outputs": [],
            "execution_count": 20
        },
        {
            "cell_type": "code",
            "source": [
                "SELECT oh.OrderDate, oh.SalesOrderNumber, p.Name As ProductName, od.OrderQty, od.UnitPrice, od.LineTotal\n",
                "FROM SalesLT.SalesOrderHeader AS oh\n",
                "JOIN SalesLT.SalesOrderDetail AS od\n",
                "ON od.SalesOrderID = oh.SalesOrderID\n",
                "JOIN SalesLT.Product AS p\n",
                "ON od.ProductID = p.ProductID\n",
                "ORDER BY oh.OrderDate, oh.SalesOrderID, od.SalesOrderDetailID;\n",
                ""
            ],
            "metadata": {
                "azdata_cell_guid": "cbd7c2a5-b299-48d7-a4fc-aa39a02bae1c",
                "tags": []
            },
            "outputs": [],
            "execution_count": 21
        },
        {
            "cell_type": "code",
            "source": [
                "SELECT oh.OrderDate, oh.SalesOrderNumber, p.Name As ProductName, od.OrderQty, od.UnitPrice, od.LineTotal\n",
                "FROM SalesLT.SalesOrderHeader AS oh\n",
                "JOIN SalesLT.SalesOrderDetail AS od\n",
                "ON od.SalesOrderID = oh.SalesOrderID\n",
                "JOIN SalesLT.Product AS p\n",
                "ON od.ProductID = p.ProductID AND od.UnitPrice = p.ListPrice --Note multiple predicates\n",
                "ORDER BY oh.OrderDate, oh.SalesOrderID, od.SalesOrderDetailID; "
            ],
            "metadata": {
                "azdata_cell_guid": "7e06fbf6-ac73-49c1-8733-f52a8fc2ee4a",
                "tags": []
            },
            "outputs": [],
            "execution_count": 22
        },
        {
            "cell_type": "markdown",
            "source": [
                "HW 3\n",
                "Minimum 3 Queries each using each of the predicates\n",
                "\n",
                "Project\n",
                "Based on the tables we created and populated \n",
                "Mr. Okonkwo who is PM for the IT department to update 10 rows out of the 15 rows with new amaounts \n",
                "for the same items"
            ],
            "metadata": {
                "azdata_cell_guid": "23f83f26-1044-467b-be84-6c2db69a9e43"
            }
        }
    ]
}